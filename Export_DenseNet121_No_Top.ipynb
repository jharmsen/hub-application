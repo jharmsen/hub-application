{
  "nbformat": 4,
  "nbformat_minor": 0,
  "metadata": {
    "colab": {
      "name": "Export DenseNet121 No Top",
      "version": "0.3.2",
      "provenance": [],
      "collapsed_sections": [],
      "include_colab_link": true
    },
    "kernelspec": {
      "name": "python3",
      "display_name": "Python 3"
    }
  },
  "cells": [
    {
      "cell_type": "markdown",
      "metadata": {
        "id": "view-in-github",
        "colab_type": "text"
      },
      "source": [
        "<a href=\"https://colab.research.google.com/github/jharmsen/hub-application/blob/master/Export_DenseNet121_No_Top.ipynb\" target=\"_parent\"><img src=\"https://colab.research.google.com/assets/colab-badge.svg\" alt=\"Open In Colab\"/></a>"
      ]
    },
    {
      "cell_type": "markdown",
      "metadata": {
        "id": "-LqkTzPKsNff",
        "colab_type": "text"
      },
      "source": [
        "## Example to generate SavedModel for a Hub Application\n",
        "\n",
        "This colab takes a `keras.Model` and saves it in the `SavedModel` format as  `<model>.tar.gz`.\n",
        "\n",
        "Generally this will be a model that you have trained using `keras.Model.fit`.  In this case we cheat since our model is acually a Keras Application and simply load the application."
      ]
    },
    {
      "cell_type": "code",
      "metadata": {
        "id": "oYUJPoVaKAmd",
        "colab_type": "code",
        "colab": {}
      },
      "source": [
        "! pip install tf-nightly-2.0-preview"
      ],
      "execution_count": 0,
      "outputs": []
    },
    {
      "cell_type": "code",
      "metadata": {
        "id": "whUToNS6KG_d",
        "colab_type": "code",
        "colab": {}
      },
      "source": [
        "import os\n",
        "import subprocess\n",
        "import tensorflow as tf\n",
        "import tensorflow_hub as hub"
      ],
      "execution_count": 0,
      "outputs": []
    },
    {
      "cell_type": "markdown",
      "metadata": {
        "id": "90Xhufrrtie3",
        "colab_type": "text"
      },
      "source": [
        "Load our model (again, you would normally use the model that you've trained at this point)."
      ]
    },
    {
      "cell_type": "code",
      "metadata": {
        "id": "Vc_urZ5rKSkn",
        "colab_type": "code",
        "colab": {}
      },
      "source": [
        "model = tf.keras.applications.DenseNet121(include_top=False)"
      ],
      "execution_count": 0,
      "outputs": []
    },
    {
      "cell_type": "code",
      "metadata": {
        "id": "9TuBiDi6KiGc",
        "colab_type": "code",
        "colab": {}
      },
      "source": [
        "OUTPUT_DIR = \"/tmp/\"\n",
        "MODEL_NAME = \"densenet121_weights_tf_dim_ordering_tf_kernels_notop\""
      ],
      "execution_count": 0,
      "outputs": []
    },
    {
      "cell_type": "markdown",
      "metadata": {
        "id": "ycxtfJSZumPq",
        "colab_type": "text"
      },
      "source": [
        "Export the Keras Model in SavedModel format, then tar and zip (may take ~3 minutes)."
      ]
    },
    {
      "cell_type": "code",
      "metadata": {
        "id": "WGbhqhNdLfGl",
        "colab_type": "code",
        "colab": {}
      },
      "source": [
        "sm_path = os.path.join(OUTPUT_DIR, MODEL_NAME)\n",
        "tf.saved_model.save(model, sm_path)\n",
        "tar_path = os.path.join(OUTPUT_DIR, \"{}.tar.gz\".format(MODEL_NAME))\n",
        "subprocess.call([\"tar\", \"-zcvf\", tar_path, \"-C\", sm_path, \".\"] )"
      ],
      "execution_count": 0,
      "outputs": []
    },
    {
      "cell_type": "code",
      "metadata": {
        "id": "tzQDwiBFLk0R",
        "colab_type": "code",
        "colab": {}
      },
      "source": [
        "!ls -l /tmp"
      ],
      "execution_count": 0,
      "outputs": []
    },
    {
      "cell_type": "markdown",
      "metadata": {
        "id": "OzyrxePKvHW0",
        "colab_type": "text"
      },
      "source": [
        "Download the zipped SavedModel to be served as a [release binary file](https://help.github.com/en/articles/creating-releases) in your GitHub repo."
      ]
    },
    {
      "cell_type": "code",
      "metadata": {
        "id": "gS6VGGoSNGFq",
        "colab_type": "code",
        "colab": {}
      },
      "source": [
        "from google.colab import files"
      ],
      "execution_count": 0,
      "outputs": []
    },
    {
      "cell_type": "code",
      "metadata": {
        "id": "l4zAqI3oNUiz",
        "colab_type": "code",
        "colab": {}
      },
      "source": [
        "files.download(tar_path)"
      ],
      "execution_count": 0,
      "outputs": []
    }
  ]
}