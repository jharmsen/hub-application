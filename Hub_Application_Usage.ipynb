{
  "nbformat": 4,
  "nbformat_minor": 0,
  "metadata": {
    "colab": {
      "name": "Hub Application Usage",
      "version": "0.3.2",
      "provenance": [],
      "collapsed_sections": [],
      "include_colab_link": true
    },
    "kernelspec": {
      "name": "python3",
      "display_name": "Python 3"
    }
  },
  "cells": [
    {
      "cell_type": "markdown",
      "metadata": {
        "id": "view-in-github",
        "colab_type": "text"
      },
      "source": [
        "<a href=\"https://colab.research.google.com/github/jharmsen/hub-application/blob/master/Hub_Application_Usage.ipynb\" target=\"_parent\"><img src=\"https://colab.research.google.com/assets/colab-badge.svg\" alt=\"Open In Colab\"/></a>"
      ]
    },
    {
      "cell_type": "markdown",
      "metadata": {
        "id": "MfkXHGf7x668",
        "colab_type": "text"
      },
      "source": [
        "# Hub Applications\n",
        "Proof of concept for backing [Keras Applications](https://keras.io/applications) with TensorFlow Hub.\n",
        "\n",
        "  * GitHub: [jharmsen/hub-application](https://github.com/jharmsen/hub-application)"
      ]
    },
    {
      "cell_type": "code",
      "metadata": {
        "id": "r6P5M8XoZ7ZO",
        "colab_type": "code",
        "colab": {}
      },
      "source": [
        "!pip install --quiet tf-nightly-2.0-preview\n",
        "import tensorflow as tf\n",
        "import tensorflow_hub as hub"
      ],
      "execution_count": 0,
      "outputs": []
    },
    {
      "cell_type": "markdown",
      "metadata": {
        "id": "FdBsvVBUwS5M",
        "colab_type": "text"
      },
      "source": [
        "## Fake input\n",
        "Create a pretend input image."
      ]
    },
    {
      "cell_type": "code",
      "metadata": {
        "id": "U_vnkzXewX5e",
        "colab_type": "code",
        "colab": {}
      },
      "source": [
        "image = tf.random.normal((1, 32, 32, 3))"
      ],
      "execution_count": 0,
      "outputs": []
    },
    {
      "cell_type": "markdown",
      "metadata": {
        "id": "-BRhF9hVufnQ",
        "colab_type": "text"
      },
      "source": [
        "## Example use: Hub\n",
        "Note that in this case we aren't cloning or installing _any_ code - only using the SavedModel!"
      ]
    },
    {
      "cell_type": "code",
      "metadata": {
        "id": "Z0OAobmlvBU0",
        "colab_type": "code",
        "colab": {}
      },
      "source": [
        "HANDLE = \"https://github.com/jharmsen/hub-application/releases/download/v1/densenet121_weights_tf_dim_ordering_tf_kernels_notop.tar.gz\""
      ],
      "execution_count": 0,
      "outputs": []
    },
    {
      "cell_type": "markdown",
      "metadata": {
        "id": "zD9qt3nQwsWa",
        "colab_type": "text"
      },
      "source": [
        "### hub.load"
      ]
    },
    {
      "cell_type": "code",
      "metadata": {
        "id": "_VWW3zSbwuua",
        "colab_type": "code",
        "colab": {}
      },
      "source": [
        "model = hub.load(HANDLE)\n",
        "model(image, False)  # TODO: why do we require the positional arguments?"
      ],
      "execution_count": 0,
      "outputs": []
    },
    {
      "cell_type": "markdown",
      "metadata": {
        "id": "HODn6-51w2Im",
        "colab_type": "text"
      },
      "source": [
        "### hub.KerasLayer"
      ]
    },
    {
      "cell_type": "code",
      "metadata": {
        "id": "usi_GC8IyB6I",
        "colab_type": "code",
        "colab": {}
      },
      "source": [
        "keras_layer = hub.KerasLayer(HANDLE)\n",
        "keras_layer(image)"
      ],
      "execution_count": 0,
      "outputs": []
    },
    {
      "cell_type": "markdown",
      "metadata": {
        "id": "kjVO7ZOWyXYc",
        "colab_type": "text"
      },
      "source": [
        "## Example use: Keras code"
      ]
    },
    {
      "cell_type": "code",
      "metadata": {
        "id": "qI1kdiWiubQf",
        "colab_type": "code",
        "colab": {}
      },
      "source": [
        "!pip install git+https://github.com/jharmsen/hub-application.git\n",
        "from hub_application import densenet"
      ],
      "execution_count": 0,
      "outputs": []
    },
    {
      "cell_type": "code",
      "metadata": {
        "id": "7vKdegIyyssf",
        "colab_type": "code",
        "colab": {}
      },
      "source": [
        "keras_model = densenet.DenseNet121()\n",
        "keras_model(image)"
      ],
      "execution_count": 0,
      "outputs": []
    }
  ]
}